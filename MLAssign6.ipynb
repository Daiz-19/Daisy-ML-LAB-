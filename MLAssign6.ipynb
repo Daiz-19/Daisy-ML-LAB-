{
  "nbformat": 4,
  "nbformat_minor": 0,
  "metadata": {
    "colab": {
      "provenance": []
    },
    "kernelspec": {
      "name": "python3",
      "display_name": "Python 3"
    },
    "language_info": {
      "name": "python"
    }
  },
  "cells": [
    {
      "cell_type": "code",
      "source": [
        "# Q1 (i)\n",
        "import numpy as np\n",
        "import pandas as pd\n",
        "from sklearn.model_selection import train_test_split\n",
        "from sklearn.datasets import load_iris\n",
        "from collections import Counter\n",
        "iris = load_iris()\n",
        "X = iris.data\n",
        "y = iris.target\n",
        "X_train, X_test, y_train, y_test = train_test_split(X, y, test_size=0.3, random_state=42)\n",
        "class GaussianNaiveBayes:\n",
        "    def fit(self, X, y):\n",
        "        n_samples, n_features = X.shape\n",
        "        self.classes = np.unique(y)\n",
        "        n_classes = len(self.classes)\n",
        "\n",
        "        self.mean = np.zeros((n_classes, n_features), dtype=np.float64)\n",
        "        self.var = np.zeros((n_classes, n_features), dtype=np.float64)\n",
        "        self.priors = np.zeros(n_classes, dtype=np.float64)\n",
        "\n",
        "        for c in self.classes:\n",
        "            X_c = X[y == c]\n",
        "            self.mean[c, :] = X_c.mean(axis=0)\n",
        "            self.var[c, :] = X_c.var(axis=0)\n",
        "            self.priors[c] = X_c.shape[0] / float(n_samples)\n",
        "\n",
        "    def _gaussian_density(self, class_idx, x):\n",
        "        mean = self.mean[class_idx]\n",
        "        var = self.var[class_idx]\n",
        "        return (1.0 / np.sqrt(2 * np.pi * var)) * np.exp(-(x - mean) ** 2 / (2 * var))\n",
        "\n",
        "    def _class_likelihood(self, X):\n",
        "        likelihoods = []\n",
        "        for x in X:\n",
        "            posteriors = []\n",
        "            for idx, c in enumerate(self.classes):\n",
        "                prior = np.log(self.priors[idx])\n",
        "                class_conditional = np.sum(np.log(self._gaussian_density(idx, x)))\n",
        "                posterior = prior + class_conditional\n",
        "                posteriors.append(posterior)\n",
        "            likelihoods.append(self.classes[np.argmax(posteriors)])\n",
        "        return likelihoods\n",
        "\n",
        "    def predict(self, X):\n",
        "        return self._class_likelihood(X)\n",
        "model = GaussianNaiveBayes()\n",
        "model.fit(X_train, y_train)\n",
        "y_pred = model.predict(X_test)\n",
        "accuracy = np.sum(y_pred == y_test) / len(y_test)\n",
        "print(f'Accuracy: {accuracy:.2f}')"
      ],
      "metadata": {
        "colab": {
          "base_uri": "https://localhost:8080/"
        },
        "id": "AFBteTMSpYh0",
        "outputId": "b89984fa-0c06-4a3a-fa00-3844103b8acf"
      },
      "execution_count": null,
      "outputs": [
        {
          "output_type": "stream",
          "name": "stdout",
          "text": [
            "Accuracy: 0.98\n"
          ]
        }
      ]
    },
    {
      "cell_type": "code",
      "source": [
        "# Q1(ii)\n",
        "from sklearn.naive_bayes import GaussianNB\n",
        "from sklearn.metrics import accuracy_score\n",
        "gnb = GaussianNB()\n",
        "gnb.fit(X_train, y_train)\n",
        "y_pred_inbuilt = gnb.predict(X_test)\n",
        "accuracy_inbuilt = accuracy_score(y_test, y_pred_inbuilt)\n",
        "print(f'Accuracy (In-built): {accuracy_inbuilt:.2f}')"
      ],
      "metadata": {
        "colab": {
          "base_uri": "https://localhost:8080/"
        },
        "id": "tKNyPvito-Zm",
        "outputId": "6dd4bc85-b5b9-40d7-83b3-add25bdc9bd5"
      },
      "execution_count": null,
      "outputs": [
        {
          "output_type": "stream",
          "name": "stdout",
          "text": [
            "Accuracy (In-built): 1.00\n"
          ]
        }
      ]
    },
    {
      "cell_type": "code",
      "source": [
        "# Q2\n",
        "from sklearn.datasets import load_iris\n",
        "from sklearn.model_selection import train_test_split, GridSearchCV\n",
        "from sklearn.neighbors import KNeighborsClassifier\n",
        "from sklearn.metrics import accuracy_score\n",
        "\n",
        "iris = load_iris()\n",
        "X = iris.data\n",
        "y = iris.target\n",
        "\n",
        "X_train, X_test, y_train, y_test = train_test_split(X, y, test_size=0.3, random_state=42)\n",
        "\n",
        "knn = KNeighborsClassifier()\n",
        "\n",
        "param_grid = {'n_neighbors': list(range(1, 31))}\n",
        "grid_search = GridSearchCV(knn, param_grid, cv=5, scoring='accuracy')\n",
        "\n",
        "grid_search.fit(X_train, y_train)\n",
        "\n",
        "best_k = grid_search.best_params_['n_neighbors']\n",
        "print(f'Best value of K: {best_k}')\n",
        "\n",
        "best_knn = grid_search.best_estimator_\n",
        "y_pred = best_knn.predict(X_test)\n",
        "\n",
        "accuracy = accuracy_score(y_test, y_pred)\n",
        "print(f'Accuracy with best K ({best_k}): {accuracy:.2f}')"
      ],
      "metadata": {
        "colab": {
          "base_uri": "https://localhost:8080/"
        },
        "id": "xq5buJXdq9X2",
        "outputId": "2d88d022-d176-4f1e-f7da-4f0e6f56f04d"
      },
      "execution_count": null,
      "outputs": [
        {
          "output_type": "stream",
          "name": "stdout",
          "text": [
            "Best value of K: 1\n",
            "Accuracy with best K (1): 1.00\n"
          ]
        }
      ]
    }
  ]
}