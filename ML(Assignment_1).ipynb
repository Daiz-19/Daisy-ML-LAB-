{
  "nbformat": 4,
  "nbformat_minor": 0,
  "metadata": {
    "colab": {
      "provenance": []
    },
    "kernelspec": {
      "name": "python3",
      "display_name": "Python 3"
    },
    "language_info": {
      "name": "python"
    }
  },
  "cells": [
    {
      "cell_type": "code",
      "execution_count": null,
      "metadata": {
        "colab": {
          "base_uri": "https://localhost:8080/"
        },
        "id": "3uLldc5sm_l3",
        "outputId": "74a8e3b5-1a86-421b-bd5e-8b28b075d8c4"
      },
      "outputs": [
        {
          "output_type": "stream",
          "name": "stdout",
          "text": [
            "[1, 2, 3, 6, 4, 5]\n",
            "Reversed arr : [5 4 6 3 2 1]\n"
          ]
        }
      ],
      "source": [
        "#1 (a)\n",
        "import numpy as np\n",
        "arr=[1,2,3,6,4,5]\n",
        "print(arr)\n",
        "print(\"Reversed arr :\",np.flip(arr))"
      ]
    },
    {
      "cell_type": "code",
      "source": [
        "#1 (b)\n",
        "array1=np.array([[1,2,3],[2,4,5],[1,2,3]])\n",
        "print(\"Flattened arr :\",array1.flatten())\n",
        "print(\"Flattened by F :\",array1.flatten('F'))\n",
        "print(\"Flattened :\",array1.flatten('C'))"
      ],
      "metadata": {
        "colab": {
          "base_uri": "https://localhost:8080/"
        },
        "id": "0t4Wd_nHnV6N",
        "outputId": "6e5b2cd4-d11f-4c90-9be6-c02499c6f1d6"
      },
      "execution_count": null,
      "outputs": [
        {
          "output_type": "stream",
          "name": "stdout",
          "text": [
            "Flattened arr : [1 2 3 2 4 5 1 2 3]\n",
            "Flattened by F : [1 2 1 2 4 2 3 5 3]\n",
            "Flattened : [1 2 3 2 4 5 1 2 3]\n"
          ]
        }
      ]
    },
    {
      "cell_type": "code",
      "source": [
        "#1 (c)\n",
        "arr1=np.array([[1,2],[3,4]])\n",
        "arr2=np.array([[1,2],[3,4]])\n",
        "comp=(arr1==arr2)\n",
        "print(comp)"
      ],
      "metadata": {
        "colab": {
          "base_uri": "https://localhost:8080/"
        },
        "id": "ffxzcXeXnxxl",
        "outputId": "00f756d3-8c5d-4a33-87c7-bdc0c91bfd32"
      },
      "execution_count": null,
      "outputs": [
        {
          "output_type": "stream",
          "name": "stdout",
          "text": [
            "[[ True  True]\n",
            " [ True  True]]\n"
          ]
        }
      ]
    },
    {
      "cell_type": "code",
      "source": [
        "#1 (c)\n",
        "arr1=[1,2,3,4]\n",
        "arr2=[1,2,3,4]\n",
        "comp=(arr1==arr2)\n",
        "print(comp)"
      ],
      "metadata": {
        "colab": {
          "base_uri": "https://localhost:8080/"
        },
        "id": "i8GBkZvapvzl",
        "outputId": "c1615a97-d534-4161-8269-ffa4e37bbfae"
      },
      "execution_count": null,
      "outputs": [
        {
          "output_type": "stream",
          "name": "stdout",
          "text": [
            "True\n"
          ]
        }
      ]
    },
    {
      "cell_type": "code",
      "source": [
        "#1 (d)\n",
        "x=np.array([1,2,3,4,5,1,2,1,1,1])\n",
        "\n",
        "def most_frequent_and_indices(x):\n",
        "    unique_elements, counts = np.unique(x, return_counts=True)\n",
        "    max_count_index = np.argmax(counts)\n",
        "    most_frequent_element = unique_elements[max_count_index]\n",
        "    return most_frequent_element, np.where(x == most_frequent_element)[0]\n",
        "result = most_frequent_and_indices(x)\n",
        "print(result)"
      ],
      "metadata": {
        "id": "AEJXQpWOqKHD",
        "colab": {
          "base_uri": "https://localhost:8080/"
        },
        "outputId": "4213c830-1bdf-4b77-955e-2b8c79b05877"
      },
      "execution_count": null,
      "outputs": [
        {
          "output_type": "stream",
          "name": "stdout",
          "text": [
            "(1, array([0, 5, 7, 8, 9]))\n"
          ]
        }
      ]
    },
    {
      "cell_type": "code",
      "source": [
        "#1 (e)\n",
        "gfg=np.matrix('[4,1,9;12,3,1;4,5,6]')\n",
        "print(\"Sum :\",np.sum(gfg))\n",
        "print(\"Col sum :\",np.sum(gfg, axis=0))\n",
        "print(\"Row sum :\",np.sum(gfg, axis=1))"
      ],
      "metadata": {
        "colab": {
          "base_uri": "https://localhost:8080/"
        },
        "id": "5c-FByJNqlqF",
        "outputId": "b422125c-d8a3-409f-c486-9502c45a6f58"
      },
      "execution_count": null,
      "outputs": [
        {
          "output_type": "stream",
          "name": "stdout",
          "text": [
            "Sum : 45\n",
            "Col sum : [[20  9 16]]\n",
            "Row sum : [[14]\n",
            " [16]\n",
            " [15]]\n"
          ]
        }
      ]
    },
    {
      "cell_type": "code",
      "source": [
        "#1 (f)\n",
        "n_array=np.array([[55,25,15],[30,44,2],[11,45,77]])\n",
        "print(\"Diag sum :\",np.trace(n_array))\n",
        "print(np.linalg.eig(n_array))\n",
        "print(\"Inverse :\",np.linalg.inv(n_array))\n",
        "print(\"Determinant :\",np.linalg.det(n_array))"
      ],
      "metadata": {
        "colab": {
          "base_uri": "https://localhost:8080/"
        },
        "id": "BvONlGp5s5qE",
        "outputId": "fe7fc180-bb34-472c-e8b6-e82b9160f663"
      },
      "execution_count": null,
      "outputs": [
        {
          "output_type": "stream",
          "name": "stdout",
          "text": [
            "Diag sum : 176\n",
            "EigResult(eigenvalues=array([98.16835147, 28.097044  , 49.73460452]), eigenvectors=array([[ 0.4574917 ,  0.34637121, -0.15017693],\n",
            "       [ 0.28447814, -0.72784061, -0.4852124 ],\n",
            "       [ 0.84248058,  0.59184038,  0.8614034 ]]))\n",
            "Inverse : [[ 0.02404141 -0.00911212 -0.00444671]\n",
            " [-0.01667882  0.02966905  0.0024785 ]\n",
            " [ 0.00631287 -0.01603732  0.01217379]]\n",
            "Determinant : 137180.0000000001\n"
          ]
        }
      ]
    },
    {
      "cell_type": "code",
      "source": [
        "#1 (g)\n",
        "p=np.array([[1,2],[2,3]])\n",
        "q=np.array([[4,5],[6,7]])\n",
        "print(\"Multiplication :\",np.dot(p,q))\n",
        "print(\"Covariance :\",np.cov(p,q))"
      ],
      "metadata": {
        "colab": {
          "base_uri": "https://localhost:8080/"
        },
        "id": "SGZdefAdvhHk",
        "outputId": "6072bff4-97e0-48d5-97aa-a0a71619f607"
      },
      "execution_count": null,
      "outputs": [
        {
          "output_type": "stream",
          "name": "stdout",
          "text": [
            "Multiplication : [[16 19]\n",
            " [26 31]]\n",
            "Covariance : [[0.5 0.5 0.5 0.5]\n",
            " [0.5 0.5 0.5 0.5]\n",
            " [0.5 0.5 0.5 0.5]\n",
            " [0.5 0.5 0.5 0.5]]\n"
          ]
        }
      ]
    },
    {
      "cell_type": "code",
      "source": [
        "#1 (g)\n",
        "p=np.array([[1,2],[2,3],[4,5]])\n",
        "q=np.array([[4,5,1],[6,7,2]])\n",
        "print(\"Multiplication :\",np.dot(p,q))"
      ],
      "metadata": {
        "colab": {
          "base_uri": "https://localhost:8080/"
        },
        "id": "Vmt7coOZw26U",
        "outputId": "6c12adec-3ec9-4647-9f26-0016469645a1"
      },
      "execution_count": null,
      "outputs": [
        {
          "output_type": "stream",
          "name": "stdout",
          "text": [
            "Multiplication : [[16 19  5]\n",
            " [26 31  8]\n",
            " [46 55 14]]\n"
          ]
        }
      ]
    },
    {
      "cell_type": "code",
      "source": [
        "#1 (h)\n",
        "x=np.array([[2,3,4],[3,2,9]])\n",
        "y=np.array([[1,5,0],[5,10,3]])\n",
        "print(\"Inner :\",np.inner(x,y))\n",
        "print(\"Outer :\",np.outer(x,y))\n",
        "print(\"Cross :\",np.cross(x,y))"
      ],
      "metadata": {
        "colab": {
          "base_uri": "https://localhost:8080/"
        },
        "id": "c_V1Fgigx5DE",
        "outputId": "bcc91444-253e-4fcb-feef-d864311f94a2"
      },
      "execution_count": null,
      "outputs": [
        {
          "output_type": "stream",
          "name": "stdout",
          "text": [
            "Inner : [[17 52]\n",
            " [13 62]]\n",
            "Outer : [[ 2 10  0 10 20  6]\n",
            " [ 3 15  0 15 30  9]\n",
            " [ 4 20  0 20 40 12]\n",
            " [ 3 15  0 15 30  9]\n",
            " [ 2 10  0 10 20  6]\n",
            " [ 9 45  0 45 90 27]]\n",
            "Cross : [[-20   4   7]\n",
            " [-84  36  20]]\n"
          ]
        }
      ]
    },
    {
      "cell_type": "code",
      "source": [
        "#2 (a)\n",
        "import numpy as np\n",
        "array=np.array([[1,-2,3],[-4,5,-6]])\n",
        "print(\"Absolute :\",np.abs(array))\n",
        "x=array.flatten()\n",
        "print(\"25th percentile :\",np.percentile(x,[25],axis=0))\n",
        "print(\"50th percentile :\",np.percentile(x,[50],axis=0))\n",
        "print(\"75th percentile :\",np.percentile(x,[75],axis=0))\n",
        "\n",
        "print(\"Mean :\",np.mean(array))\n",
        "print(\"Median :\",np.median(array))\n",
        "print(\"Standard deviation :\",np.std(array))\n",
        "# It appears that you are trying to calculate the 50th percentile along axis=1 of\n",
        "# a flattened array x. However, flattening an array using .flatten() returns a\n",
        "# 1-dimensional array. In 1-dimensional arrays, there is only axis=0."
      ],
      "metadata": {
        "colab": {
          "base_uri": "https://localhost:8080/"
        },
        "id": "dnf4vNVcyo0E",
        "outputId": "5c353c5f-1154-4057-890b-572418255542"
      },
      "execution_count": null,
      "outputs": [
        {
          "output_type": "stream",
          "name": "stdout",
          "text": [
            "Absolute : [[1 2 3]\n",
            " [4 5 6]]\n",
            "25th percentile : [-3.5]\n",
            "50th percentile : [-0.5]\n",
            "75th percentile : [2.5]\n",
            "Mean : -0.5\n",
            "Median : -0.5\n",
            "Standard deviation : 3.8622100754188224\n"
          ]
        }
      ]
    },
    {
      "cell_type": "code",
      "source": [
        "#2 (b)\n",
        "a=np.array([-1.8,-1.6,-0.5,0.5,1.6,1.8,3.0])\n",
        "print(\"Floor :\",np.floor(a))\n",
        "print(\"Ceil :\",np.ceil(a))\n",
        "print(\"Trunc :\",np.trunc(a))\n",
        "print(\"Round :\",np.round(a))"
      ],
      "metadata": {
        "colab": {
          "base_uri": "https://localhost:8080/"
        },
        "id": "f-0wEgPSKTPN",
        "outputId": "20e148e4-4647-40db-b58d-206fde864eca"
      },
      "execution_count": null,
      "outputs": [
        {
          "output_type": "stream",
          "name": "stdout",
          "text": [
            "Floor : [-2. -2. -1.  0.  1.  1.  3.]\n",
            "Ceil : [-1. -1. -0.  1.  2.  2.  3.]\n",
            "Trunc : [-1. -1. -0.  0.  1.  1.  3.]\n",
            "Round : [-2. -2. -0.  0.  2.  2.  3.]\n"
          ]
        }
      ]
    },
    {
      "cell_type": "code",
      "source": [
        "#3 (a)\n",
        "import numpy as np\n",
        "array=np.array([10,52,62,16,16,54,453])\n",
        "print(\"Sorted array :\",np.sort(array))\n",
        "print(\"Indices :\",np.argsort(array))\n",
        "print(\"Elements :\",sorted(array)[:4])\n",
        "import heapq\n",
        "print(\"Largest 5 elements :\",heapq.nlargest(5,array))"
      ],
      "metadata": {
        "id": "qAnvWkRm0y1T",
        "colab": {
          "base_uri": "https://localhost:8080/"
        },
        "outputId": "91d7fc8d-13c9-4ae0-c721-e0c3c1da910c"
      },
      "execution_count": null,
      "outputs": [
        {
          "output_type": "stream",
          "name": "stdout",
          "text": [
            "Sorted array : [ 10  16  16  52  54  62 453]\n",
            "Indices : [0 3 4 1 5 2 6]\n",
            "Elements : [10, 16, 16, 52]\n",
            "Largest 5 elements : [453, 62, 54, 52, 16]\n"
          ]
        }
      ]
    },
    {
      "cell_type": "code",
      "source": [
        "#3 (b)\n",
        "array=np.array([1,1.2,2.2,2,3,2])\n",
        "print(\"Integer elements :\",array[array.astype(int)==array])\n",
        "print(\"Float elements :\",array[array.astype(float)==array])\n"
      ],
      "metadata": {
        "colab": {
          "base_uri": "https://localhost:8080/"
        },
        "id": "b2ALWhrDllgl",
        "outputId": "11226262-cedf-4ed6-d6fb-a20d699e9faa"
      },
      "execution_count": null,
      "outputs": [
        {
          "output_type": "stream",
          "name": "stdout",
          "text": [
            "Integer elements : [1. 2. 3. 2.]\n",
            "Float elements : [1.  1.2 2.2 2.  3.  2. ]\n"
          ]
        }
      ]
    },
    {
      "cell_type": "code",
      "source": [
        "#4\n",
        "from PIL import Image\n",
        "import numpy as np\n",
        "\n",
        "def img_to_array(path):\n",
        "  img = Image.open(path)\n",
        "  if img.mode == 'RGB':\n",
        "    arr = np.array(img)\n",
        "    with open('rgb_image_array.txt', 'w') as f:\n",
        "      for row in arr:\n",
        "        np.savetxt(f, row, fmt='%d')\n",
        "  elif img.mode == 'L':\n",
        "    arr = np.array(img)\n",
        "    with open('grayscale_image_array.txt', 'w') as f:\n",
        "      np.savetxt(f, arr, fmt='%d')\n",
        "  else:\n",
        "    print(\"Unsupported image mode.\")"
      ],
      "metadata": {
        "id": "QuqHWK8qDztt"
      },
      "execution_count": 1,
      "outputs": []
    }
  ]
}